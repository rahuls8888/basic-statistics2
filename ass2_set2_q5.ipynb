{
  "nbformat": 4,
  "nbformat_minor": 0,
  "metadata": {
    "colab": {
      "provenance": []
    },
    "kernelspec": {
      "name": "python3",
      "display_name": "Python 3"
    },
    "language_info": {
      "name": "python"
    }
  },
  "cells": [
    {
      "cell_type": "code",
      "execution_count": 15,
      "metadata": {
        "id": "UgLW18IhWqT4"
      },
      "outputs": [],
      "source": [
        "import numpy as np\n",
        "import matplotlib.pyplot as plt\n",
        "from scipy.stats import norm"
      ]
    },
    {
      "cell_type": "code",
      "source": [
        "# Constants\n",
        "mean_profit1 = 225 * 45  # in million Rupees\n",
        "std_dev_profit1 = 180 * 45  # in million Rupees\n",
        "mean_profit2 = 315 * 45  # in million Rupees\n",
        "std_dev_profit2 = 283.21 * 45  # in million Rupees\n",
        "\n",
        "# Calculate total profit statistics\n",
        "mean_total_profit = mean_profit1 + mean_profit2\n",
        "std_dev_total_profit = ((std_dev_profit1 ** 2) + (std_dev_profit2 ** 2)) ** 0.5\n"
      ],
      "metadata": {
        "id": "pBjPve4OdKDA"
      },
      "execution_count": 16,
      "outputs": []
    },
    {
      "cell_type": "code",
      "source": [
        "\n",
        "# Calculate the 95% confidence interval\n",
        "confidence_level = 0.95\n",
        "z_score = norm.ppf(1 - (1 - confidence_level) / 2)\n",
        "lower_bound = mean_total_profit - z_score * std_dev_total_profit\n",
        "upper_bound = mean_total_profit + z_score * std_dev_total_profit\n",
        "upper_bound-lower_bound"
      ],
      "metadata": {
        "colab": {
          "base_uri": "https://localhost:8080/"
        },
        "id": "4fYuc8Vob_Pi",
        "outputId": "765a9959-9778-440d-bc41-9afd93f3e235"
      },
      "execution_count": 17,
      "outputs": [
        {
          "output_type": "execute_result",
          "data": {
            "text/plain": [
              "59193.63880120116"
            ]
          },
          "metadata": {},
          "execution_count": 17
        }
      ]
    },
    {
      "cell_type": "code",
      "source": [
        "# Calculate the 5th percentile of profit\n",
        "percentile_5 = norm.ppf(0.05, loc=mean_total_profit, scale=std_dev_total_profit)\n",
        "\n",
        "# Display the result\n",
        "print(f\"B. 5th Percentile of Profit: {percentile_5:.2f} million Rupees\")\n"
      ],
      "metadata": {
        "colab": {
          "base_uri": "https://localhost:8080/"
        },
        "id": "j2ubLm2dXJXw",
        "outputId": "29fb9dc2-bfc2-403c-abf5-0740290fe730"
      },
      "execution_count": 18,
      "outputs": [
        {
          "output_type": "stream",
          "name": "stdout",
          "text": [
            "B. 5th Percentile of Profit: -538.43 million Rupees\n"
          ]
        }
      ]
    },
    {
      "cell_type": "code",
      "source": [
        "probability_loss_profit1 = norm.cdf(0, loc=mean_profit1, scale=std_dev_profit1)\n",
        "\n",
        "probability_loss_profit2 = norm.cdf(0, loc=mean_profit2, scale=std_dev_profit2)\n"
      ],
      "metadata": {
        "id": "hp5MKNnkXJaf"
      },
      "execution_count": 19,
      "outputs": []
    },
    {
      "cell_type": "code",
      "source": [
        "if probability_loss_profit1 > probability_loss_profit2:\n",
        "    print(\"C. Profit1 has a larger probability of making a loss in a given year.\")\n",
        "elif probability_loss_profit2 > probability_loss_profit1:\n",
        "    print(\"C. Profit2 has a larger probability of making a loss in a given year.\")\n",
        "else:\n",
        "    print(\"C. Both divisions have the same probability of making a loss in a given year.\")\n"
      ],
      "metadata": {
        "colab": {
          "base_uri": "https://localhost:8080/"
        },
        "id": "J4IhGsHrXJdW",
        "outputId": "68e50096-12f4-4949-9a32-d9e14c5c7a29"
      },
      "execution_count": 20,
      "outputs": [
        {
          "output_type": "stream",
          "name": "stdout",
          "text": [
            "C. Profit2 has a larger probability of making a loss in a given year.\n"
          ]
        }
      ]
    },
    {
      "cell_type": "markdown",
      "source": [],
      "metadata": {
        "id": "NXVR3MOzXJrG"
      }
    }
  ]
}