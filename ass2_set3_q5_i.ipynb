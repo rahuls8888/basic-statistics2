{
  "nbformat": 4,
  "nbformat_minor": 0,
  "metadata": {
    "colab": {
      "provenance": []
    },
    "kernelspec": {
      "name": "python3",
      "display_name": "Python 3"
    },
    "language_info": {
      "name": "python"
    }
  },
  "cells": [
    {
      "cell_type": "code",
      "execution_count": 1,
      "metadata": {
        "colab": {
          "base_uri": "https://localhost:8080/"
        },
        "id": "tg8UQyToM5Zb",
        "outputId": "7a86b02e-dee1-4b49-ddf3-134069e2d256"
      },
      "outputs": [
        {
          "output_type": "stream",
          "name": "stdout",
          "text": [
            "No, Microsoft could not conclude that Mozilla has a less than 5% share of the market.\n"
          ]
        }
      ],
      "source": [
        "import math\n",
        "from scipy.stats import norm\n",
        "\n",
        "# Given data\n",
        "sample_proportion = 0.046\n",
        "sample_size = 2000\n",
        "hypothesized_proportion = 0.05\n",
        "\n",
        "# Calculate the standard error\n",
        "standard_error = math.sqrt((sample_proportion * (1 - sample_proportion)) / sample_size)\n",
        "\n",
        "# Calculate the z-score\n",
        "z_score = (sample_proportion - hypothesized_proportion) / standard_error\n",
        "\n",
        "# Find the p-value\n",
        "p_value = norm.cdf(z_score)\n",
        "\n",
        "# Set the significance level\n",
        "alpha = 0.05\n",
        "\n",
        "# Check if we can reject the null hypothesis\n",
        "if p_value < alpha:\n",
        "    conclusion = \"Yes, Microsoft could conclude that Mozilla has a less than 5% share of the market.\"\n",
        "else:\n",
        "    conclusion = \"No, Microsoft could not conclude that Mozilla has a less than 5% share of the market.\"\n",
        "\n",
        "print(conclusion)\n"
      ]
    }
  ]
}