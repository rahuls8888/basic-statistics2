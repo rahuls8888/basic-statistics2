{
  "nbformat": 4,
  "nbformat_minor": 0,
  "metadata": {
    "colab": {
      "provenance": []
    },
    "kernelspec": {
      "name": "python3",
      "display_name": "Python 3"
    },
    "language_info": {
      "name": "python"
    }
  },
  "cells": [
    {
      "cell_type": "code",
      "execution_count": 1,
      "metadata": {
        "colab": {
          "base_uri": "https://localhost:8080/"
        },
        "id": "8dYliTXrcgoc",
        "outputId": "4047ccee-3c4c-4d37-ea1b-b99ac53683b1"
      },
      "outputs": [
        {
          "output_type": "stream",
          "name": "stdout",
          "text": [
            "The minimum required sample size is: 601\n"
          ]
        }
      ],
      "source": [
        "import math\n",
        "from scipy import stats\n",
        "\n",
        "# Given data\n",
        "confidence_level = 0.95  # 95% confidence level\n",
        "margin_of_error = 0.04  # 4% margin of error\n",
        "\n",
        "# Calculate the critical value (Z) for the desired confidence level\n",
        "critical_value = abs(stats.norm.ppf((1 - confidence_level) / 2))\n",
        "\n",
        "# Calculate the minimum required sample size\n",
        "required_sample_size = math.ceil((critical_value**2 * 0.25) / (margin_of_error**2))\n",
        "\n",
        "print(f\"The minimum required sample size is: {required_sample_size}\")\n"
      ]
    }
  ]
}