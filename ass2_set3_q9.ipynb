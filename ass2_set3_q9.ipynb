{
  "nbformat": 4,
  "nbformat_minor": 0,
  "metadata": {
    "colab": {
      "provenance": []
    },
    "kernelspec": {
      "name": "python3",
      "display_name": "Python 3"
    },
    "language_info": {
      "name": "python"
    }
  },
  "cells": [
    {
      "cell_type": "code",
      "execution_count": 1,
      "metadata": {
        "colab": {
          "base_uri": "https://localhost:8080/"
        },
        "id": "6tOOcTUsdlW6",
        "outputId": "62d602b7-d657-4485-c392-1accebc58b33"
      },
      "outputs": [
        {
          "output_type": "stream",
          "name": "stdout",
          "text": [
            "The minimum required sample size is: 846\n"
          ]
        }
      ],
      "source": [
        "import math\n",
        "from scipy import stats\n",
        "\n",
        "# Given data\n",
        "confidence_level = 0.98  # 98% confidence level\n",
        "margin_of_error = 0.04  # 4% margin of error\n",
        "\n",
        "# Calculate the critical value (Z) for the desired confidence level\n",
        "critical_value = abs(stats.norm.ppf((1 - confidence_level) / 2))\n",
        "\n",
        "# Calculate the minimum required sample size\n",
        "required_sample_size = math.ceil((critical_value**2 * 0.25) / (margin_of_error**2))\n",
        "\n",
        "print(f\"The minimum required sample size is: {required_sample_size}\")\n",
        "\n",
        "\n"
      ]
    }
  ]
}